{
 "cells": [
  {
   "cell_type": "code",
   "execution_count": 2,
   "id": "49439ecb-2be3-4cd4-92e3-1cb54148dce7",
   "metadata": {},
   "outputs": [],
   "source": [
    "import json\n",
    "import os"
   ]
  },
  {
   "cell_type": "markdown",
   "id": "6a4255d3-1adc-4295-8c5e-0c556d329798",
   "metadata": {},
   "source": [
    "PREPROCESSING "
   ]
  },
  {
   "cell_type": "markdown",
   "id": "c6cbc8ee-7dd3-45c5-b9fb-8f09a11bc2fb",
   "metadata": {},
   "source": [
    "removing mnssing videso from json"
   ]
  },
  {
   "cell_type": "code",
   "execution_count": 6,
   "id": "d8b7393e-60e3-4d90-aac1-c6be5d3b6602",
   "metadata": {},
   "outputs": [
    {
     "name": "stdout",
     "output_type": "stream",
     "text": [
      "✅ Found 9103 missing videos.\n",
      "📄 List saved to: D:\\FYPSHIT\\DATASET\\missing_videos.txt\n"
     ]
    }
   ],
   "source": [
    "\n",
    "# Paths (Update these)\n",
    "video_dir = r\"D:\\FYPSHIT\\DATASET\\videos\"  # Folder containing video files\n",
    "json_files = [\n",
    "    r\"D:\\FYPSHIT\\DATASET\\WLASL_v0.3.json\",\n",
    "    r\"D:\\FYPSHIT\\DATASET\\nslt_100.json\",\n",
    "    r\"D:\\FYPSHIT\\DATASET\\nslt_300.json\",\n",
    "    r\"D:\\FYPSHIT\\DATASET\\nslt_1000.json\",\n",
    "    r\"D:\\FYPSHIT\\DATASET\\nslt_2000.json\",\n",
    "]  # List of original JSON files\n",
    "\n",
    "# Step 1: Get All Available Video Filenames\n",
    "video_files = set(os.listdir(video_dir))  # All available videos\n",
    "video_files = {f.split(\".\")[0] for f in video_files}  # Remove .mp4 extension\n",
    "\n",
    "# Step 2: Identify Missing Videos from `WLASL_v0.3.json`\n",
    "missing_videos = set()\n",
    "\n",
    "with open(json_files[0], \"r\") as f:  # Read the main JSON file\n",
    "    data = json.load(f)\n",
    "\n",
    "for word in data:\n",
    "    for instance in word[\"instances\"]:\n",
    "        video_id = instance[\"video_id\"]\n",
    "        if video_id not in video_files:\n",
    "            missing_videos.add(video_id)\n",
    "\n",
    "# Save Missing Videos to a TXT File for Reference\n",
    "missing_videos_txt = r\"D:\\FYPSHIT\\DATASET\\missing_videos.txt\"\n",
    "with open(missing_videos_txt, \"w\") as f:\n",
    "    for video_id in sorted(missing_videos):\n",
    "        f.write(video_id + \"\\n\")\n",
    "\n",
    "print(f\"✅ Found {len(missing_videos)} missing videos.\")\n",
    "print(f\"📄 List saved to: {missing_videos_txt}\")\n"
   ]
  },
  {
   "cell_type": "code",
   "execution_count": 7,
   "id": "c3f23745-6d8f-4f44-8d45-8d486c166cd1",
   "metadata": {},
   "outputs": [
    {
     "name": "stdout",
     "output_type": "stream",
     "text": [
      "✅ Cleaned JSON saved: D:\\FYPSHIT\\DATASET\\new1_WLASL_v0.3.json\n",
      "✅ Cleaned JSON saved: D:\\FYPSHIT\\DATASET\\new1_nslt_100.json\n",
      "✅ Cleaned JSON saved: D:\\FYPSHIT\\DATASET\\new1_nslt_300.json\n",
      "✅ Cleaned JSON saved: D:\\FYPSHIT\\DATASET\\new1_nslt_1000.json\n",
      "✅ Cleaned JSON saved: D:\\FYPSHIT\\DATASET\\new1_nslt_2000.json\n",
      "🎉 All JSON files have been cleaned and saved with prefix 'new1_'!\n"
     ]
    }
   ],
   "source": [
    "# Function to clean a JSON file by removing missing videos\n",
    "def clean_json_file(json_path, missing_videos):\n",
    "    with open(json_path, \"r\") as f:\n",
    "        data = json.load(f)\n",
    "\n",
    "    if isinstance(data, list):  # Format like WLASL_v0.3.json\n",
    "        cleaned_data = []\n",
    "        for word in data:\n",
    "            valid_instances = [inst for inst in word[\"instances\"] if inst[\"video_id\"] not in missing_videos]\n",
    "            if valid_instances:\n",
    "                cleaned_data.append({\"gloss\": word[\"gloss\"], \"instances\": valid_instances})\n",
    "\n",
    "    elif isinstance(data, dict):  # Format like nslt_*.json\n",
    "        cleaned_data = {vid: info for vid, info in data.items() if vid not in missing_videos}\n",
    "\n",
    "    # Save the cleaned JSON with \"new1_\" prefix\n",
    "    cleaned_json_path = os.path.join(os.path.dirname(json_path), \"new1_\" + os.path.basename(json_path))\n",
    "    with open(cleaned_json_path, \"w\") as f:\n",
    "        json.dump(cleaned_data, f, indent=4)\n",
    "\n",
    "    print(f\"✅ Cleaned JSON saved: {cleaned_json_path}\")\n",
    "\n",
    "# Step 3: Process Each JSON File\n",
    "for json_path in json_files:\n",
    "    clean_json_file(json_path, missing_videos)\n",
    "\n",
    "print(\"🎉 All JSON files have been cleaned and saved with prefix 'new1_'!\")\n"
   ]
  },
  {
   "cell_type": "code",
   "execution_count": 9,
   "id": "1530a6be-bd40-4a3f-ab96-42dba77dadcb",
   "metadata": {},
   "outputs": [
    {
     "name": "stdout",
     "output_type": "stream",
     "text": [
      "✅ Class-wise video counts saved to: D:\\FYPSHIT\\DATASET\\new1_class_counts.json\n"
     ]
    }
   ],
   "source": [
    "from collections import defaultdict\n",
    "\n",
    "# Count videos per class\n",
    "class_counts = defaultdict(int)\n",
    "\n",
    "for word in cleaned_data:\n",
    "    gloss = word[\"gloss\"]\n",
    "    class_counts[gloss] += len(word[\"instances\"])\n",
    "\n",
    "# Save class counts to a JSON file\n",
    "class_counts_path = r\"D:\\FYPSHIT\\DATASET\\new1_class_counts.json\"\n",
    "\n",
    "with open(class_counts_path, \"w\") as f:\n",
    "    json.dump(class_counts, f, indent=4)\n",
    "\n",
    "print(f\"✅ Class-wise video counts saved to: {class_counts_path}\")\n"
   ]
  },
  {
   "cell_type": "code",
   "execution_count": 10,
   "id": "42f80621-6e8d-4be2-96df-7bfc69bbf156",
   "metadata": {},
   "outputs": [
    {
     "name": "stdout",
     "output_type": "stream",
     "text": [
      "✅ Folder created: D:\\FYPSHIT\\DATASET\\selected\n",
      "✅ Selected words JSON saved: D:\\FYPSHIT\\DATASET\\selected\\selected_WLASL.json\n",
      "✅ Selected NSLT JSON saved: D:\\FYPSHIT\\DATASET\\selected\\selected_new1_nslt_100.json\n",
      "✅ Selected NSLT JSON saved: D:\\FYPSHIT\\DATASET\\selected\\selected_new1_nslt_300.json\n",
      "✅ Selected NSLT JSON saved: D:\\FYPSHIT\\DATASET\\selected\\selected_new1_nslt_1000.json\n",
      "✅ Selected NSLT JSON saved: D:\\FYPSHIT\\DATASET\\selected\\selected_new1_nslt_2000.json\n"
     ]
    }
   ],
   "source": [
    "import os\n",
    "\n",
    "selected_folder = r\"D:\\FYPSHIT\\DATASET\\selected\"  # Update if needed\n",
    "\n",
    "# Create the folder if it doesn't exist\n",
    "os.makedirs(selected_folder, exist_ok=True)\n",
    "\n",
    "print(f\"✅ Folder created: {selected_folder}\")\n",
    "selected_words = {\n",
    "    \"before\", \"thin\", \"cool\", \"drink\", \"go\", \"who\", \"computer\", \"cousin\", \"help\",\n",
    "    \"candy\", \"thanksgiving\", \"bed\", \"bowling\", \"short\", \"tall\", \"accident\", \"call\",\n",
    "    \"cold\", \"later\", \"man\", \"shirt\", \"basketball\", \"what\", \"pizza\", \"change\", \"corn\",\n",
    "    \"dark\", \"walk\", \"family\", \"mother\", \"dog\", \"apple\", \"letter\", \"take\", \"bar\",\n",
    "    \"brother\", \"laugh\", \"soon\", \"room\", \"play\"\n",
    "}\n",
    "import json\n",
    "\n",
    "# Paths\n",
    "cleaned_json_path = r\"D:\\FYPSHIT\\DATASET\\new1_WLASL_v0.3.json\"  # The cleaned JSON file\n",
    "selected_json_path = os.path.join(selected_folder, \"selected_WLASL.json\")\n",
    "\n",
    "# Load cleaned JSON\n",
    "with open(cleaned_json_path, \"r\") as f:\n",
    "    cleaned_data = json.load(f)\n",
    "\n",
    "# Filter only selected words\n",
    "selected_data = [word for word in cleaned_data if word[\"gloss\"] in selected_words]\n",
    "\n",
    "# Save the selected words dataset\n",
    "with open(selected_json_path, \"w\") as f:\n",
    "    json.dump(selected_data, f, indent=4)\n",
    "\n",
    "print(f\"✅ Selected words JSON saved: {selected_json_path}\")\n",
    "# Paths to the cleaned nslt JSON files\n",
    "nslt_files = [\n",
    "    r\"D:\\FYPSHIT\\DATASET\\new1_nslt_100.json\",\n",
    "    r\"D:\\FYPSHIT\\DATASET\\new1_nslt_300.json\",\n",
    "    r\"D:\\FYPSHIT\\DATASET\\new1_nslt_1000.json\",\n",
    "    r\"D:\\FYPSHIT\\DATASET\\new1_nslt_2000.json\"\n",
    "]\n",
    "\n",
    "# Extract video IDs for the selected words\n",
    "selected_video_ids = set()\n",
    "for word in selected_data:\n",
    "    for instance in word[\"instances\"]:\n",
    "        selected_video_ids.add(instance[\"video_id\"])\n",
    "\n",
    "# Function to filter and save NSLT files\n",
    "def filter_nslt_file(nslt_path):\n",
    "    with open(nslt_path, \"r\") as f:\n",
    "        nslt_data = json.load(f)\n",
    "\n",
    "    selected_nslt_data = {vid: info for vid, info in nslt_data.items() if vid in selected_video_ids}\n",
    "\n",
    "    selected_nslt_path = os.path.join(selected_folder, \"selected_\" + os.path.basename(nslt_path))\n",
    "    with open(selected_nslt_path, \"w\") as f:\n",
    "        json.dump(selected_nslt_data, f, indent=4)\n",
    "\n",
    "    print(f\"✅ Selected NSLT JSON saved: {selected_nslt_path}\")\n",
    "\n",
    "# Process each NSLT JSON file\n",
    "for nslt_path in nslt_files:\n",
    "    filter_nslt_file(nslt_path)\n"
   ]
  },
  {
   "cell_type": "code",
   "execution_count": 11,
   "id": "887815b8-a535-4622-b8f6-170812394787",
   "metadata": {},
   "outputs": [
    {
     "name": "stdout",
     "output_type": "stream",
     "text": [
      "✅ Selected JSON files:\n",
      "['selected_new1_nslt_100.json', 'selected_new1_nslt_1000.json', 'selected_new1_nslt_2000.json', 'selected_new1_nslt_300.json', 'selected_WLASL.json']\n",
      "📊 Total videos in the selected dataset: 500\n"
     ]
    }
   ],
   "source": [
    "import os\n",
    "import json\n",
    "\n",
    "selected_folder = r\"D:\\FYPSHIT\\DATASET\\selected\"  # Path to the selected folder\n",
    "\n",
    "# List all selected JSON files\n",
    "selected_files = [f for f in os.listdir(selected_folder) if f.startswith(\"selected_\") and f.endswith(\".json\")]\n",
    "\n",
    "print(\"✅ Selected JSON files:\")\n",
    "print(selected_files)\n",
    "\n",
    "# Verify the total number of videos\n",
    "selected_json_path = os.path.join(selected_folder, \"selected_WLASL.json\")\n",
    "\n",
    "with open(selected_json_path, \"r\") as f:\n",
    "    selected_data = json.load(f)\n",
    "\n",
    "total_selected_videos = sum(len(word[\"instances\"]) for word in selected_data)\n",
    "\n",
    "print(f\"📊 Total videos in the selected dataset: {total_selected_videos}\")\n"
   ]
  },
  {
   "cell_type": "code",
   "execution_count": 13,
   "id": "743ec172-fcac-4b13-beed-45eff94dcb13",
   "metadata": {},
   "outputs": [
    {
     "name": "stderr",
     "output_type": "stream",
     "text": [
      "Processing Videos:   0%|                                                                        | 0/40 [00:00<?, ?it/s]"
     ]
    },
    {
     "name": "stdout",
     "output_type": "stream",
     "text": [
      "✅ Extracted 16 frames from D:\\FYPSHIT\\DATASET\\videos\\69302.mp4\n",
      "✅ Extracted 16 frames from D:\\FYPSHIT\\DATASET\\videos\\65539.mp4\n",
      "✅ Extracted 16 frames from D:\\FYPSHIT\\DATASET\\videos\\17710.mp4\n",
      "✅ Extracted 16 frames from D:\\FYPSHIT\\DATASET\\videos\\17733.mp4\n",
      "✅ Extracted 16 frames from D:\\FYPSHIT\\DATASET\\videos\\65540.mp4\n",
      "✅ Extracted 16 frames from D:\\FYPSHIT\\DATASET\\videos\\17734.mp4\n",
      "✅ Extracted 16 frames from D:\\FYPSHIT\\DATASET\\videos\\17711.mp4\n",
      "✅ Extracted 16 frames from D:\\FYPSHIT\\DATASET\\videos\\17712.mp4\n",
      "✅ Extracted 16 frames from D:\\FYPSHIT\\DATASET\\videos\\17713.mp4\n",
      "✅ Extracted 16 frames from D:\\FYPSHIT\\DATASET\\videos\\17709.mp4\n",
      "✅ Extracted 15 frames from D:\\FYPSHIT\\DATASET\\videos\\17720.mp4\n",
      "✅ Extracted 15 frames from D:\\FYPSHIT\\DATASET\\videos\\17721.mp4\n",
      "✅ Extracted 15 frames from D:\\FYPSHIT\\DATASET\\videos\\17722.mp4\n",
      "✅ Extracted 15 frames from D:\\FYPSHIT\\DATASET\\videos\\17723.mp4\n"
     ]
    },
    {
     "name": "stderr",
     "output_type": "stream",
     "text": [
      "Processing Videos:   2%|█▌                                                              | 1/40 [00:46<30:06, 46.32s/it]"
     ]
    },
    {
     "name": "stdout",
     "output_type": "stream",
     "text": [
      "✅ Extracted 15 frames from D:\\FYPSHIT\\DATASET\\videos\\17724.mp4\n",
      "✅ Extracted 16 frames from D:\\FYPSHIT\\DATASET\\videos\\12328.mp4\n",
      "✅ Extracted 16 frames from D:\\FYPSHIT\\DATASET\\videos\\12312.mp4\n",
      "✅ Extracted 16 frames from D:\\FYPSHIT\\DATASET\\videos\\12311.mp4\n",
      "✅ Extracted 16 frames from D:\\FYPSHIT\\DATASET\\videos\\12338.mp4\n",
      "✅ Extracted 16 frames from D:\\FYPSHIT\\DATASET\\videos\\12313.mp4\n",
      "✅ Extracted 16 frames from D:\\FYPSHIT\\DATASET\\videos\\12314.mp4\n",
      "✅ Extracted 16 frames from D:\\FYPSHIT\\DATASET\\videos\\12315.mp4\n",
      "✅ Extracted 16 frames from D:\\FYPSHIT\\DATASET\\videos\\12316.mp4\n",
      "✅ Extracted 16 frames from D:\\FYPSHIT\\DATASET\\videos\\12317.mp4\n",
      "✅ Extracted 16 frames from D:\\FYPSHIT\\DATASET\\videos\\12318.mp4\n",
      "✅ Extracted 16 frames from D:\\FYPSHIT\\DATASET\\videos\\12319.mp4\n",
      "✅ Extracted 16 frames from D:\\FYPSHIT\\DATASET\\videos\\12320.mp4\n",
      "✅ Extracted 16 frames from D:\\FYPSHIT\\DATASET\\videos\\12326.mp4\n"
     ]
    },
    {
     "name": "stderr",
     "output_type": "stream",
     "text": [
      "Processing Videos:   5%|███▏                                                            | 2/40 [02:16<45:34, 71.97s/it]"
     ]
    },
    {
     "name": "stdout",
     "output_type": "stream",
     "text": [
      "✅ Extracted 16 frames from D:\\FYPSHIT\\DATASET\\videos\\12327.mp4\n",
      "✅ Extracted 16 frames from D:\\FYPSHIT\\DATASET\\videos\\05728.mp4\n",
      "✅ Extracted 16 frames from D:\\FYPSHIT\\DATASET\\videos\\05749.mp4\n",
      "✅ Extracted 16 frames from D:\\FYPSHIT\\DATASET\\videos\\05750.mp4\n",
      "✅ Extracted 16 frames from D:\\FYPSHIT\\DATASET\\videos\\05729.mp4\n",
      "✅ Extracted 16 frames from D:\\FYPSHIT\\DATASET\\videos\\05730.mp4\n",
      "✅ Extracted 16 frames from D:\\FYPSHIT\\DATASET\\videos\\65167.mp4\n",
      "✅ Extracted 16 frames from D:\\FYPSHIT\\DATASET\\videos\\05731.mp4\n",
      "✅ Extracted 16 frames from D:\\FYPSHIT\\DATASET\\videos\\05732.mp4\n",
      "✅ Extracted 16 frames from D:\\FYPSHIT\\DATASET\\videos\\05733.mp4\n",
      "✅ Extracted 16 frames from D:\\FYPSHIT\\DATASET\\videos\\05734.mp4\n",
      "✅ Extracted 16 frames from D:\\FYPSHIT\\DATASET\\videos\\05727.mp4\n",
      "✅ Extracted 15 frames from D:\\FYPSHIT\\DATASET\\videos\\05739.mp4\n",
      "✅ Extracted 15 frames from D:\\FYPSHIT\\DATASET\\videos\\05740.mp4\n",
      "✅ Extracted 16 frames from D:\\FYPSHIT\\DATASET\\videos\\05741.mp4\n",
      "✅ Extracted 16 frames from D:\\FYPSHIT\\DATASET\\videos\\05742.mp4\n"
     ]
    },
    {
     "name": "stderr",
     "output_type": "stream",
     "text": [
      "Processing Videos:   8%|████▊                                                           | 3/40 [03:28<44:29, 72.16s/it]"
     ]
    },
    {
     "name": "stdout",
     "output_type": "stream",
     "text": [
      "✅ Extracted 15 frames from D:\\FYPSHIT\\DATASET\\videos\\05743.mp4\n",
      "✅ Extracted 16 frames from D:\\FYPSHIT\\DATASET\\videos\\69345.mp4\n",
      "✅ Extracted 15 frames from D:\\FYPSHIT\\DATASET\\videos\\24955.mp4\n",
      "✅ Extracted 15 frames from D:\\FYPSHIT\\DATASET\\videos\\24956.mp4\n",
      "✅ Extracted 16 frames from D:\\FYPSHIT\\DATASET\\videos\\24941.mp4\n",
      "✅ Extracted 15 frames from D:\\FYPSHIT\\DATASET\\videos\\24960.mp4\n",
      "✅ Extracted 15 frames from D:\\FYPSHIT\\DATASET\\videos\\24961.mp4\n",
      "✅ Extracted 15 frames from D:\\FYPSHIT\\DATASET\\videos\\24962.mp4\n",
      "✅ Extracted 16 frames from D:\\FYPSHIT\\DATASET\\videos\\65824.mp4\n",
      "✅ Extracted 16 frames from D:\\FYPSHIT\\DATASET\\videos\\24973.mp4\n",
      "✅ Extracted 16 frames from D:\\FYPSHIT\\DATASET\\videos\\24943.mp4\n",
      "✅ Extracted 16 frames from D:\\FYPSHIT\\DATASET\\videos\\24946.mp4\n",
      "✅ Extracted 16 frames from D:\\FYPSHIT\\DATASET\\videos\\24947.mp4\n",
      "✅ Extracted 16 frames from D:\\FYPSHIT\\DATASET\\videos\\24940.mp4\n",
      "✅ Extracted 15 frames from D:\\FYPSHIT\\DATASET\\videos\\24952.mp4\n"
     ]
    },
    {
     "name": "stderr",
     "output_type": "stream",
     "text": [
      "Processing Videos:  10%|██████▍                                                         | 4/40 [04:07<35:27, 59.10s/it]"
     ]
    },
    {
     "name": "stdout",
     "output_type": "stream",
     "text": [
      "✅ Extracted 15 frames from D:\\FYPSHIT\\DATASET\\videos\\24954.mp4\n",
      "✅ Extracted 16 frames from D:\\FYPSHIT\\DATASET\\videos\\69534.mp4\n",
      "✅ Extracted 16 frames from D:\\FYPSHIT\\DATASET\\videos\\63242.mp4\n",
      "✅ Extracted 16 frames from D:\\FYPSHIT\\DATASET\\videos\\63226.mp4\n",
      "✅ Extracted 16 frames from D:\\FYPSHIT\\DATASET\\videos\\63227.mp4\n",
      "✅ Extracted 16 frames from D:\\FYPSHIT\\DATASET\\videos\\63228.mp4\n",
      "✅ Extracted 16 frames from D:\\FYPSHIT\\DATASET\\videos\\63229.mp4\n",
      "✅ Extracted 16 frames from D:\\FYPSHIT\\DATASET\\videos\\63230.mp4\n",
      "✅ Extracted 16 frames from D:\\FYPSHIT\\DATASET\\videos\\63231.mp4\n",
      "✅ Extracted 16 frames from D:\\FYPSHIT\\DATASET\\videos\\66778.mp4\n",
      "✅ Extracted 16 frames from D:\\FYPSHIT\\DATASET\\videos\\63232.mp4\n",
      "✅ Extracted 16 frames from D:\\FYPSHIT\\DATASET\\videos\\66779.mp4\n",
      "✅ Extracted 16 frames from D:\\FYPSHIT\\DATASET\\videos\\63225.mp4\n",
      "✅ Extracted 15 frames from D:\\FYPSHIT\\DATASET\\videos\\63236.mp4\n"
     ]
    },
    {
     "name": "stderr",
     "output_type": "stream",
     "text": [
      "Processing Videos:  12%|████████                                                        | 5/40 [05:15<36:16, 62.19s/it]"
     ]
    },
    {
     "name": "stdout",
     "output_type": "stream",
     "text": [
      "✅ Extracted 15 frames from D:\\FYPSHIT\\DATASET\\videos\\63237.mp4\n",
      "✅ Extracted 16 frames from D:\\FYPSHIT\\DATASET\\videos\\08929.mp4\n",
      "✅ Extracted 16 frames from D:\\FYPSHIT\\DATASET\\videos\\08916.mp4\n",
      "✅ Extracted 16 frames from D:\\FYPSHIT\\DATASET\\videos\\08917.mp4\n",
      "✅ Extracted 16 frames from D:\\FYPSHIT\\DATASET\\videos\\08918.mp4\n",
      "✅ Extracted 16 frames from D:\\FYPSHIT\\DATASET\\videos\\08919.mp4\n",
      "✅ Extracted 16 frames from D:\\FYPSHIT\\DATASET\\videos\\08920.mp4\n",
      "✅ Extracted 16 frames from D:\\FYPSHIT\\DATASET\\videos\\08921.mp4\n",
      "✅ Extracted 16 frames from D:\\FYPSHIT\\DATASET\\videos\\65298.mp4\n",
      "✅ Extracted 16 frames from D:\\FYPSHIT\\DATASET\\videos\\08924.mp4\n",
      "✅ Extracted 16 frames from D:\\FYPSHIT\\DATASET\\videos\\65299.mp4\n",
      "✅ Extracted 16 frames from D:\\FYPSHIT\\DATASET\\videos\\65300.mp4\n",
      "✅ Extracted 16 frames from D:\\FYPSHIT\\DATASET\\videos\\08915.mp4\n"
     ]
    },
    {
     "name": "stderr",
     "output_type": "stream",
     "text": [
      "Processing Videos:  15%|█████████▌                                                      | 6/40 [06:15<34:53, 61.57s/it]"
     ]
    },
    {
     "name": "stdout",
     "output_type": "stream",
     "text": [
      "✅ Extracted 15 frames from D:\\FYPSHIT\\DATASET\\videos\\08925.mp4\n",
      "✅ Extracted 16 frames from D:\\FYPSHIT\\DATASET\\videos\\65415.mp4\n",
      "✅ Extracted 16 frames from D:\\FYPSHIT\\DATASET\\videos\\13647.mp4\n",
      "✅ Extracted 16 frames from D:\\FYPSHIT\\DATASET\\videos\\13648.mp4\n",
      "✅ Extracted 16 frames from D:\\FYPSHIT\\DATASET\\videos\\13631.mp4\n",
      "✅ Extracted 16 frames from D:\\FYPSHIT\\DATASET\\videos\\13632.mp4\n",
      "✅ Extracted 16 frames from D:\\FYPSHIT\\DATASET\\videos\\13633.mp4\n",
      "✅ Extracted 16 frames from D:\\FYPSHIT\\DATASET\\videos\\13634.mp4\n",
      "✅ Extracted 16 frames from D:\\FYPSHIT\\DATASET\\videos\\13635.mp4\n",
      "✅ Extracted 16 frames from D:\\FYPSHIT\\DATASET\\videos\\13636.mp4\n",
      "✅ Extracted 16 frames from D:\\FYPSHIT\\DATASET\\videos\\13630.mp4\n",
      "✅ Extracted 16 frames from D:\\FYPSHIT\\DATASET\\videos\\13640.mp4\n",
      "✅ Extracted 16 frames from D:\\FYPSHIT\\DATASET\\videos\\13641.mp4\n",
      "✅ Extracted 15 frames from D:\\FYPSHIT\\DATASET\\videos\\13642.mp4\n"
     ]
    },
    {
     "name": "stderr",
     "output_type": "stream",
     "text": [
      "Processing Videos:  18%|███████████▏                                                    | 7/40 [06:51<29:08, 52.97s/it]"
     ]
    },
    {
     "name": "stdout",
     "output_type": "stream",
     "text": [
      "✅ Extracted 16 frames from D:\\FYPSHIT\\DATASET\\videos\\13646.mp4\n",
      "✅ Extracted 16 frames from D:\\FYPSHIT\\DATASET\\videos\\69364.mp4\n",
      "✅ Extracted 16 frames from D:\\FYPSHIT\\DATASET\\videos\\27221.mp4\n",
      "✅ Extracted 16 frames from D:\\FYPSHIT\\DATASET\\videos\\27206.mp4\n",
      "✅ Extracted 16 frames from D:\\FYPSHIT\\DATASET\\videos\\27207.mp4\n",
      "✅ Extracted 16 frames from D:\\FYPSHIT\\DATASET\\videos\\27208.mp4\n",
      "✅ Extracted 16 frames from D:\\FYPSHIT\\DATASET\\videos\\27209.mp4\n",
      "✅ Extracted 16 frames from D:\\FYPSHIT\\DATASET\\videos\\65890.mp4\n",
      "✅ Extracted 15 frames from D:\\FYPSHIT\\DATASET\\videos\\27213.mp4\n",
      "✅ Extracted 16 frames from D:\\FYPSHIT\\DATASET\\videos\\27214.mp4\n",
      "✅ Extracted 16 frames from D:\\FYPSHIT\\DATASET\\videos\\65891.mp4\n",
      "✅ Extracted 16 frames from D:\\FYPSHIT\\DATASET\\videos\\65889.mp4\n",
      "✅ Extracted 16 frames from D:\\FYPSHIT\\DATASET\\videos\\27215.mp4\n",
      "✅ Extracted 15 frames from D:\\FYPSHIT\\DATASET\\videos\\27216.mp4\n"
     ]
    },
    {
     "name": "stderr",
     "output_type": "stream",
     "text": [
      "Processing Videos:  20%|████████████▊                                                   | 8/40 [07:34<26:38, 49.94s/it]"
     ]
    },
    {
     "name": "stdout",
     "output_type": "stream",
     "text": [
      "✅ Extracted 15 frames from D:\\FYPSHIT\\DATASET\\videos\\27217.mp4\n",
      "✅ Extracted 15 frames from D:\\FYPSHIT\\DATASET\\videos\\57948.mp4\n",
      "✅ Extracted 15 frames from D:\\FYPSHIT\\DATASET\\videos\\57949.mp4\n",
      "✅ Extracted 16 frames from D:\\FYPSHIT\\DATASET\\videos\\57934.mp4\n",
      "✅ Extracted 16 frames from D:\\FYPSHIT\\DATASET\\videos\\57953.mp4\n",
      "✅ Extracted 16 frames from D:\\FYPSHIT\\DATASET\\videos\\57935.mp4\n",
      "✅ Extracted 16 frames from D:\\FYPSHIT\\DATASET\\videos\\57936.mp4\n",
      "✅ Extracted 16 frames from D:\\FYPSHIT\\DATASET\\videos\\57937.mp4\n",
      "✅ Extracted 16 frames from D:\\FYPSHIT\\DATASET\\videos\\66606.mp4\n",
      "✅ Extracted 16 frames from D:\\FYPSHIT\\DATASET\\videos\\57939.mp4\n",
      "✅ Extracted 16 frames from D:\\FYPSHIT\\DATASET\\videos\\57940.mp4\n",
      "✅ Extracted 16 frames from D:\\FYPSHIT\\DATASET\\videos\\57941.mp4\n",
      "✅ Extracted 16 frames from D:\\FYPSHIT\\DATASET\\videos\\57942.mp4\n",
      "✅ Extracted 16 frames from D:\\FYPSHIT\\DATASET\\videos\\66607.mp4\n",
      "✅ Extracted 16 frames from D:\\FYPSHIT\\DATASET\\videos\\57933.mp4\n",
      "✅ Extracted 16 frames from D:\\FYPSHIT\\DATASET\\videos\\57943.mp4\n"
     ]
    },
    {
     "name": "stderr",
     "output_type": "stream",
     "text": [
      "Processing Videos:  22%|██████████████▍                                                 | 9/40 [08:54<30:42, 59.45s/it]"
     ]
    },
    {
     "name": "stdout",
     "output_type": "stream",
     "text": [
      "✅ Extracted 15 frames from D:\\FYPSHIT\\DATASET\\videos\\57947.mp4\n",
      "✅ Extracted 16 frames from D:\\FYPSHIT\\DATASET\\videos\\62175.mp4\n",
      "✅ Extracted 16 frames from D:\\FYPSHIT\\DATASET\\videos\\62159.mp4\n",
      "✅ Extracted 16 frames from D:\\FYPSHIT\\DATASET\\videos\\62160.mp4\n",
      "✅ Extracted 16 frames from D:\\FYPSHIT\\DATASET\\videos\\62163.mp4\n",
      "✅ Extracted 16 frames from D:\\FYPSHIT\\DATASET\\videos\\62164.mp4\n",
      "✅ Extracted 16 frames from D:\\FYPSHIT\\DATASET\\videos\\66743.mp4\n",
      "✅ Extracted 16 frames from D:\\FYPSHIT\\DATASET\\videos\\66742.mp4\n",
      "✅ Extracted 16 frames from D:\\FYPSHIT\\DATASET\\videos\\62158.mp4\n",
      "✅ Extracted 15 frames from D:\\FYPSHIT\\DATASET\\videos\\62168.mp4\n",
      "✅ Extracted 15 frames from D:\\FYPSHIT\\DATASET\\videos\\62169.mp4\n"
     ]
    },
    {
     "name": "stderr",
     "output_type": "stream",
     "text": [
      "Processing Videos:  25%|███████████████▊                                               | 10/40 [09:32<26:25, 52.86s/it]"
     ]
    },
    {
     "name": "stdout",
     "output_type": "stream",
     "text": [
      "✅ Extracted 15 frames from D:\\FYPSHIT\\DATASET\\videos\\62170.mp4\n",
      "✅ Extracted 16 frames from D:\\FYPSHIT\\DATASET\\videos\\69281.mp4\n",
      "✅ Extracted 16 frames from D:\\FYPSHIT\\DATASET\\videos\\65403.mp4\n",
      "✅ Extracted 15 frames from D:\\FYPSHIT\\DATASET\\videos\\13213.mp4\n",
      "✅ Extracted 16 frames from D:\\FYPSHIT\\DATASET\\videos\\13197.mp4\n",
      "✅ Extracted 16 frames from D:\\FYPSHIT\\DATASET\\videos\\13216.mp4\n",
      "✅ Extracted 16 frames from D:\\FYPSHIT\\DATASET\\videos\\13217.mp4\n",
      "✅ Extracted 16 frames from D:\\FYPSHIT\\DATASET\\videos\\13198.mp4\n",
      "✅ Extracted 16 frames from D:\\FYPSHIT\\DATASET\\videos\\13199.mp4\n",
      "✅ Extracted 16 frames from D:\\FYPSHIT\\DATASET\\videos\\13200.mp4\n",
      "✅ Extracted 16 frames from D:\\FYPSHIT\\DATASET\\videos\\13201.mp4\n",
      "✅ Extracted 16 frames from D:\\FYPSHIT\\DATASET\\videos\\65402.mp4\n",
      "✅ Extracted 16 frames from D:\\FYPSHIT\\DATASET\\videos\\13202.mp4\n",
      "✅ Extracted 16 frames from D:\\FYPSHIT\\DATASET\\videos\\13203.mp4\n",
      "✅ Extracted 16 frames from D:\\FYPSHIT\\DATASET\\videos\\13196.mp4\n",
      "✅ Extracted 15 frames from D:\\FYPSHIT\\DATASET\\videos\\13208.mp4\n"
     ]
    },
    {
     "name": "stderr",
     "output_type": "stream",
     "text": [
      "Processing Videos:  28%|█████████████████▎                                             | 11/40 [10:46<28:33, 59.10s/it]"
     ]
    },
    {
     "name": "stdout",
     "output_type": "stream",
     "text": [
      "✅ Extracted 15 frames from D:\\FYPSHIT\\DATASET\\videos\\13209.mp4\n",
      "✅ Extracted 16 frames from D:\\FYPSHIT\\DATASET\\videos\\69402.mp4\n",
      "✅ Extracted 16 frames from D:\\FYPSHIT\\DATASET\\videos\\36946.mp4\n",
      "✅ Extracted 16 frames from D:\\FYPSHIT\\DATASET\\videos\\36930.mp4\n",
      "✅ Extracted 16 frames from D:\\FYPSHIT\\DATASET\\videos\\36931.mp4\n",
      "✅ Extracted 16 frames from D:\\FYPSHIT\\DATASET\\videos\\36932.mp4\n",
      "✅ Extracted 16 frames from D:\\FYPSHIT\\DATASET\\videos\\36933.mp4\n",
      "✅ Extracted 15 frames from D:\\FYPSHIT\\DATASET\\videos\\36936.mp4\n",
      "✅ Extracted 15 frames from D:\\FYPSHIT\\DATASET\\videos\\36937.mp4\n",
      "✅ Extracted 16 frames from D:\\FYPSHIT\\DATASET\\videos\\66147.mp4\n",
      "✅ Extracted 16 frames from D:\\FYPSHIT\\DATASET\\videos\\66146.mp4\n"
     ]
    },
    {
     "name": "stderr",
     "output_type": "stream",
     "text": [
      "Processing Videos:  30%|██████████████████▉                                            | 12/40 [11:14<23:08, 49.60s/it]"
     ]
    },
    {
     "name": "stdout",
     "output_type": "stream",
     "text": [
      "✅ Extracted 16 frames from D:\\FYPSHIT\\DATASET\\videos\\36929.mp4\n",
      "✅ Extracted 16 frames from D:\\FYPSHIT\\DATASET\\videos\\57628.mp4\n",
      "✅ Extracted 16 frames from D:\\FYPSHIT\\DATASET\\videos\\57647.mp4\n",
      "✅ Extracted 16 frames from D:\\FYPSHIT\\DATASET\\videos\\57629.mp4\n",
      "✅ Extracted 16 frames from D:\\FYPSHIT\\DATASET\\videos\\57630.mp4\n",
      "✅ Extracted 16 frames from D:\\FYPSHIT\\DATASET\\videos\\57631.mp4\n",
      "✅ Extracted 16 frames from D:\\FYPSHIT\\DATASET\\videos\\57632.mp4\n",
      "✅ Extracted 16 frames from D:\\FYPSHIT\\DATASET\\videos\\57633.mp4\n",
      "✅ Extracted 16 frames from D:\\FYPSHIT\\DATASET\\videos\\57634.mp4\n",
      "✅ Extracted 16 frames from D:\\FYPSHIT\\DATASET\\videos\\57635.mp4\n",
      "✅ Extracted 15 frames from D:\\FYPSHIT\\DATASET\\videos\\57638.mp4\n",
      "✅ Extracted 15 frames from D:\\FYPSHIT\\DATASET\\videos\\57639.mp4\n",
      "✅ Extracted 15 frames from D:\\FYPSHIT\\DATASET\\videos\\57640.mp4\n"
     ]
    },
    {
     "name": "stderr",
     "output_type": "stream",
     "text": [
      "Processing Videos:  32%|████████████████████▍                                          | 13/40 [11:51<20:41, 45.98s/it]"
     ]
    },
    {
     "name": "stdout",
     "output_type": "stream",
     "text": [
      "✅ Extracted 15 frames from D:\\FYPSHIT\\DATASET\\videos\\57641.mp4\n",
      "✅ Extracted 16 frames from D:\\FYPSHIT\\DATASET\\videos\\69531.mp4\n",
      "✅ Extracted 16 frames from D:\\FYPSHIT\\DATASET\\videos\\62967.mp4\n",
      "✅ Extracted 16 frames from D:\\FYPSHIT\\DATASET\\videos\\62968.mp4\n",
      "✅ Extracted 16 frames from D:\\FYPSHIT\\DATASET\\videos\\62970.mp4\n",
      "✅ Extracted 16 frames from D:\\FYPSHIT\\DATASET\\videos\\66769.mp4\n",
      "✅ Extracted 16 frames from D:\\FYPSHIT\\DATASET\\videos\\62987.mp4\n",
      "✅ Extracted 16 frames from D:\\FYPSHIT\\DATASET\\videos\\62964.mp4\n",
      "✅ Extracted 16 frames from D:\\FYPSHIT\\DATASET\\videos\\62988.mp4\n",
      "✅ Extracted 15 frames from D:\\FYPSHIT\\DATASET\\videos\\62975.mp4\n",
      "✅ Extracted 16 frames from D:\\FYPSHIT\\DATASET\\videos\\62965.mp4\n",
      "✅ Extracted 16 frames from D:\\FYPSHIT\\DATASET\\videos\\62979.mp4\n"
     ]
    },
    {
     "name": "stderr",
     "output_type": "stream",
     "text": [
      "Processing Videos:  35%|██████████████████████                                         | 14/40 [12:45<20:54, 48.24s/it]"
     ]
    },
    {
     "name": "stdout",
     "output_type": "stream",
     "text": [
      "✅ Extracted 16 frames from D:\\FYPSHIT\\DATASET\\videos\\62966.mp4\n",
      "✅ Extracted 16 frames from D:\\FYPSHIT\\DATASET\\videos\\05644.mp4\n",
      "✅ Extracted 16 frames from D:\\FYPSHIT\\DATASET\\videos\\05629.mp4\n",
      "✅ Extracted 16 frames from D:\\FYPSHIT\\DATASET\\videos\\05630.mp4\n",
      "✅ Extracted 16 frames from D:\\FYPSHIT\\DATASET\\videos\\05631.mp4\n",
      "✅ Extracted 16 frames from D:\\FYPSHIT\\DATASET\\videos\\05632.mp4\n",
      "✅ Extracted 16 frames from D:\\FYPSHIT\\DATASET\\videos\\05633.mp4\n",
      "✅ Extracted 16 frames from D:\\FYPSHIT\\DATASET\\videos\\05634.mp4\n",
      "✅ Extracted 15 frames from D:\\FYPSHIT\\DATASET\\videos\\05636.mp4\n",
      "✅ Extracted 16 frames from D:\\FYPSHIT\\DATASET\\videos\\65162.mp4\n",
      "✅ Extracted 15 frames from D:\\FYPSHIT\\DATASET\\videos\\05637.mp4\n",
      "✅ Extracted 16 frames from D:\\FYPSHIT\\DATASET\\videos\\65163.mp4\n",
      "✅ Extracted 16 frames from D:\\FYPSHIT\\DATASET\\videos\\65161.mp4\n"
     ]
    },
    {
     "name": "stderr",
     "output_type": "stream",
     "text": [
      "Processing Videos:  38%|███████████████████████▋                                       | 15/40 [13:35<20:24, 48.99s/it]"
     ]
    },
    {
     "name": "stdout",
     "output_type": "stream",
     "text": [
      "✅ Extracted 15 frames from D:\\FYPSHIT\\DATASET\\videos\\05638.mp4\n",
      "✅ Extracted 16 frames from D:\\FYPSHIT\\DATASET\\videos\\07389.mp4\n",
      "✅ Extracted 16 frames from D:\\FYPSHIT\\DATASET\\videos\\07390.mp4\n",
      "✅ Extracted 16 frames from D:\\FYPSHIT\\DATASET\\videos\\07391.mp4\n",
      "✅ Extracted 16 frames from D:\\FYPSHIT\\DATASET\\videos\\07392.mp4\n",
      "✅ Extracted 16 frames from D:\\FYPSHIT\\DATASET\\videos\\07393.mp4\n",
      "✅ Extracted 16 frames from D:\\FYPSHIT\\DATASET\\videos\\07394.mp4\n",
      "✅ Extracted 15 frames from D:\\FYPSHIT\\DATASET\\videos\\07397.mp4\n",
      "✅ Extracted 16 frames from D:\\FYPSHIT\\DATASET\\videos\\65242.mp4\n",
      "✅ Extracted 16 frames from D:\\FYPSHIT\\DATASET\\videos\\65241.mp4\n",
      "✅ Extracted 16 frames from D:\\FYPSHIT\\DATASET\\videos\\07388.mp4\n",
      "✅ Extracted 15 frames from D:\\FYPSHIT\\DATASET\\videos\\07398.mp4\n",
      "✅ Extracted 15 frames from D:\\FYPSHIT\\DATASET\\videos\\07399.mp4\n"
     ]
    },
    {
     "name": "stderr",
     "output_type": "stream",
     "text": [
      "Processing Videos:  40%|█████████████████████████▏                                     | 16/40 [14:35<20:52, 52.20s/it]"
     ]
    },
    {
     "name": "stdout",
     "output_type": "stream",
     "text": [
      "✅ Extracted 16 frames from D:\\FYPSHIT\\DATASET\\videos\\07400.mp4\n",
      "✅ Extracted 16 frames from D:\\FYPSHIT\\DATASET\\videos\\69298.mp4\n",
      "✅ Extracted 16 frames from D:\\FYPSHIT\\DATASET\\videos\\17097.mp4\n",
      "✅ Extracted 16 frames from D:\\FYPSHIT\\DATASET\\videos\\17084.mp4\n",
      "✅ Extracted 16 frames from D:\\FYPSHIT\\DATASET\\videos\\17085.mp4\n",
      "✅ Extracted 16 frames from D:\\FYPSHIT\\DATASET\\videos\\17086.mp4\n",
      "✅ Extracted 16 frames from D:\\FYPSHIT\\DATASET\\videos\\17087.mp4\n",
      "✅ Extracted 15 frames from D:\\FYPSHIT\\DATASET\\videos\\17090.mp4\n",
      "✅ Extracted 15 frames from D:\\FYPSHIT\\DATASET\\videos\\17091.mp4\n",
      "✅ Extracted 16 frames from D:\\FYPSHIT\\DATASET\\videos\\65506.mp4\n",
      "✅ Extracted 16 frames from D:\\FYPSHIT\\DATASET\\videos\\65507.mp4\n"
     ]
    },
    {
     "name": "stderr",
     "output_type": "stream",
     "text": [
      "Processing Videos:  42%|██████████████████████████▊                                    | 17/40 [15:01<16:57, 44.22s/it]"
     ]
    },
    {
     "name": "stdout",
     "output_type": "stream",
     "text": [
      "✅ Extracted 16 frames from D:\\FYPSHIT\\DATASET\\videos\\17083.mp4\n",
      "✅ Extracted 16 frames from D:\\FYPSHIT\\DATASET\\videos\\69316.mp4\n",
      "✅ Extracted 16 frames from D:\\FYPSHIT\\DATASET\\videos\\20980.mp4\n",
      "✅ Extracted 16 frames from D:\\FYPSHIT\\DATASET\\videos\\20981.mp4\n",
      "✅ Extracted 16 frames from D:\\FYPSHIT\\DATASET\\videos\\20982.mp4\n",
      "✅ Extracted 16 frames from D:\\FYPSHIT\\DATASET\\videos\\20983.mp4\n",
      "✅ Extracted 15 frames from D:\\FYPSHIT\\DATASET\\videos\\20986.mp4\n",
      "✅ Extracted 16 frames from D:\\FYPSHIT\\DATASET\\videos\\20987.mp4\n",
      "✅ Extracted 16 frames from D:\\FYPSHIT\\DATASET\\videos\\65677.mp4\n",
      "✅ Extracted 16 frames from D:\\FYPSHIT\\DATASET\\videos\\20978.mp4\n",
      "✅ Extracted 16 frames from D:\\FYPSHIT\\DATASET\\videos\\20992.mp4\n"
     ]
    },
    {
     "name": "stderr",
     "output_type": "stream",
     "text": [
      "Processing Videos:  45%|████████████████████████████▎                                  | 18/40 [15:34<15:02, 41.02s/it]"
     ]
    },
    {
     "name": "stdout",
     "output_type": "stream",
     "text": [
      "✅ Extracted 16 frames from D:\\FYPSHIT\\DATASET\\videos\\20979.mp4\n",
      "✅ Extracted 16 frames from D:\\FYPSHIT\\DATASET\\videos\\32337.mp4\n",
      "✅ Extracted 16 frames from D:\\FYPSHIT\\DATASET\\videos\\32338.mp4\n",
      "✅ Extracted 16 frames from D:\\FYPSHIT\\DATASET\\videos\\32320.mp4\n",
      "✅ Extracted 16 frames from D:\\FYPSHIT\\DATASET\\videos\\32321.mp4\n",
      "✅ Extracted 16 frames from D:\\FYPSHIT\\DATASET\\videos\\32322.mp4\n",
      "✅ Extracted 16 frames from D:\\FYPSHIT\\DATASET\\videos\\32323.mp4\n",
      "✅ Extracted 16 frames from D:\\FYPSHIT\\DATASET\\videos\\32324.mp4\n",
      "✅ Extracted 16 frames from D:\\FYPSHIT\\DATASET\\videos\\32325.mp4\n",
      "✅ Extracted 16 frames from D:\\FYPSHIT\\DATASET\\videos\\66015.mp4\n",
      "✅ Extracted 16 frames from D:\\FYPSHIT\\DATASET\\videos\\32326.mp4\n",
      "✅ Extracted 16 frames from D:\\FYPSHIT\\DATASET\\videos\\66014.mp4\n"
     ]
    },
    {
     "name": "stderr",
     "output_type": "stream",
     "text": [
      "Processing Videos:  48%|█████████████████████████████▉                                 | 19/40 [16:33<16:12, 46.32s/it]"
     ]
    },
    {
     "name": "stdout",
     "output_type": "stream",
     "text": [
      "✅ Extracted 15 frames from D:\\FYPSHIT\\DATASET\\videos\\32333.mp4\n",
      "✅ Extracted 16 frames from D:\\FYPSHIT\\DATASET\\videos\\69395.mp4\n",
      "✅ Extracted 16 frames from D:\\FYPSHIT\\DATASET\\videos\\34746.mp4\n",
      "✅ Extracted 16 frames from D:\\FYPSHIT\\DATASET\\videos\\34733.mp4\n",
      "✅ Extracted 16 frames from D:\\FYPSHIT\\DATASET\\videos\\34734.mp4\n",
      "✅ Extracted 16 frames from D:\\FYPSHIT\\DATASET\\videos\\34736.mp4\n",
      "✅ Extracted 16 frames from D:\\FYPSHIT\\DATASET\\videos\\34737.mp4\n",
      "✅ Extracted 16 frames from D:\\FYPSHIT\\DATASET\\videos\\34738.mp4\n",
      "✅ Extracted 16 frames from D:\\FYPSHIT\\DATASET\\videos\\66098.mp4\n",
      "✅ Extracted 16 frames from D:\\FYPSHIT\\DATASET\\videos\\66099.mp4\n",
      "✅ Extracted 16 frames from D:\\FYPSHIT\\DATASET\\videos\\66097.mp4\n",
      "✅ Extracted 16 frames from D:\\FYPSHIT\\DATASET\\videos\\34732.mp4\n"
     ]
    },
    {
     "name": "stderr",
     "output_type": "stream",
     "text": [
      "Processing Videos:  50%|███████████████████████████████▌                               | 20/40 [17:16<15:08, 45.42s/it]"
     ]
    },
    {
     "name": "stdout",
     "output_type": "stream",
     "text": [
      "✅ Extracted 14 frames from D:\\FYPSHIT\\DATASET\\videos\\34742.mp4\n",
      "✅ Extracted 16 frames from D:\\FYPSHIT\\DATASET\\videos\\51057.mp4\n",
      "✅ Extracted 16 frames from D:\\FYPSHIT\\DATASET\\videos\\51081.mp4\n",
      "✅ Extracted 16 frames from D:\\FYPSHIT\\DATASET\\videos\\51056.mp4\n",
      "✅ Extracted 16 frames from D:\\FYPSHIT\\DATASET\\videos\\51058.mp4\n",
      "✅ Extracted 16 frames from D:\\FYPSHIT\\DATASET\\videos\\51059.mp4\n",
      "✅ Extracted 16 frames from D:\\FYPSHIT\\DATASET\\videos\\51060.mp4\n",
      "✅ Extracted 16 frames from D:\\FYPSHIT\\DATASET\\videos\\51061.mp4\n",
      "✅ Extracted 15 frames from D:\\FYPSHIT\\DATASET\\videos\\51063.mp4\n",
      "✅ Extracted 15 frames from D:\\FYPSHIT\\DATASET\\videos\\51064.mp4\n",
      "✅ Extracted 15 frames from D:\\FYPSHIT\\DATASET\\videos\\51066.mp4\n",
      "✅ Extracted 16 frames from D:\\FYPSHIT\\DATASET\\videos\\51067.mp4\n"
     ]
    },
    {
     "name": "stderr",
     "output_type": "stream",
     "text": [
      "Processing Videos:  52%|█████████████████████████████████                              | 21/40 [17:44<12:41, 40.09s/it]"
     ]
    },
    {
     "name": "stdout",
     "output_type": "stream",
     "text": [
      "✅ Extracted 15 frames from D:\\FYPSHIT\\DATASET\\videos\\51068.mp4\n",
      "✅ Extracted 16 frames from D:\\FYPSHIT\\DATASET\\videos\\56852.mp4\n",
      "✅ Extracted 16 frames from D:\\FYPSHIT\\DATASET\\videos\\56838.mp4\n",
      "✅ Extracted 16 frames from D:\\FYPSHIT\\DATASET\\videos\\56839.mp4\n",
      "✅ Extracted 16 frames from D:\\FYPSHIT\\DATASET\\videos\\56840.mp4\n",
      "✅ Extracted 16 frames from D:\\FYPSHIT\\DATASET\\videos\\56841.mp4\n",
      "✅ Extracted 16 frames from D:\\FYPSHIT\\DATASET\\videos\\56842.mp4\n",
      "✅ Extracted 16 frames from D:\\FYPSHIT\\DATASET\\videos\\56843.mp4\n",
      "✅ Extracted 16 frames from D:\\FYPSHIT\\DATASET\\videos\\56844.mp4\n",
      "✅ Extracted 16 frames from D:\\FYPSHIT\\DATASET\\videos\\66591.mp4\n",
      "✅ Extracted 15 frames from D:\\FYPSHIT\\DATASET\\videos\\56846.mp4\n",
      "✅ Extracted 16 frames from D:\\FYPSHIT\\DATASET\\videos\\66592.mp4\n",
      "✅ Extracted 16 frames from D:\\FYPSHIT\\DATASET\\videos\\56837.mp4\n"
     ]
    },
    {
     "name": "stderr",
     "output_type": "stream",
     "text": [
      "Processing Videos:  55%|██████████████████████████████████▋                            | 22/40 [18:36<13:07, 43.74s/it]"
     ]
    },
    {
     "name": "stdout",
     "output_type": "stream",
     "text": [
      "✅ Extracted 15 frames from D:\\FYPSHIT\\DATASET\\videos\\56848.mp4\n",
      "✅ Extracted 16 frames from D:\\FYPSHIT\\DATASET\\videos\\00639.mp4\n",
      "✅ Extracted 16 frames from D:\\FYPSHIT\\DATASET\\videos\\00624.mp4\n",
      "✅ Extracted 16 frames from D:\\FYPSHIT\\DATASET\\videos\\00625.mp4\n",
      "✅ Extracted 16 frames from D:\\FYPSHIT\\DATASET\\videos\\00626.mp4\n",
      "✅ Extracted 16 frames from D:\\FYPSHIT\\DATASET\\videos\\00627.mp4\n",
      "✅ Extracted 16 frames from D:\\FYPSHIT\\DATASET\\videos\\00628.mp4\n",
      "✅ Extracted 16 frames from D:\\FYPSHIT\\DATASET\\videos\\00629.mp4\n",
      "✅ Extracted 15 frames from D:\\FYPSHIT\\DATASET\\videos\\00631.mp4\n",
      "✅ Extracted 16 frames from D:\\FYPSHIT\\DATASET\\videos\\00632.mp4\n",
      "✅ Extracted 16 frames from D:\\FYPSHIT\\DATASET\\videos\\65009.mp4\n",
      "✅ Extracted 16 frames from D:\\FYPSHIT\\DATASET\\videos\\00623.mp4\n",
      "✅ Extracted 15 frames from D:\\FYPSHIT\\DATASET\\videos\\00633.mp4\n"
     ]
    },
    {
     "name": "stderr",
     "output_type": "stream",
     "text": [
      "Processing Videos:  57%|████████████████████████████████████▏                          | 23/40 [19:41<14:10, 50.05s/it]"
     ]
    },
    {
     "name": "stdout",
     "output_type": "stream",
     "text": [
      "✅ Extracted 15 frames from D:\\FYPSHIT\\DATASET\\videos\\00634.mp4\n",
      "✅ Extracted 16 frames from D:\\FYPSHIT\\DATASET\\videos\\69213.mp4\n",
      "✅ Extracted 15 frames from D:\\FYPSHIT\\DATASET\\videos\\03005.mp4\n",
      "✅ Extracted 16 frames from D:\\FYPSHIT\\DATASET\\videos\\03008.mp4\n",
      "✅ Extracted 16 frames from D:\\FYPSHIT\\DATASET\\videos\\65085.mp4\n",
      "✅ Extracted 16 frames from D:\\FYPSHIT\\DATASET\\videos\\65086.mp4\n",
      "✅ Extracted 16 frames from D:\\FYPSHIT\\DATASET\\videos\\65084.mp4\n",
      "✅ Extracted 16 frames from D:\\FYPSHIT\\DATASET\\videos\\02999.mp4\n",
      "✅ Extracted 16 frames from D:\\FYPSHIT\\DATASET\\videos\\03000.mp4\n",
      "✅ Extracted 16 frames from D:\\FYPSHIT\\DATASET\\videos\\03001.mp4\n",
      "✅ Extracted 16 frames from D:\\FYPSHIT\\DATASET\\videos\\03002.mp4\n"
     ]
    },
    {
     "name": "stderr",
     "output_type": "stream",
     "text": [
      "Processing Videos:  60%|█████████████████████████████████████▊                         | 24/40 [20:08<11:28, 43.01s/it]"
     ]
    },
    {
     "name": "stdout",
     "output_type": "stream",
     "text": [
      "✅ Extracted 16 frames from D:\\FYPSHIT\\DATASET\\videos\\03003.mp4\n",
      "✅ Extracted 16 frames from D:\\FYPSHIT\\DATASET\\videos\\09966.mp4\n",
      "✅ Extracted 16 frames from D:\\FYPSHIT\\DATASET\\videos\\09967.mp4\n",
      "✅ Extracted 16 frames from D:\\FYPSHIT\\DATASET\\videos\\09950.mp4\n",
      "✅ Extracted 16 frames from D:\\FYPSHIT\\DATASET\\videos\\09970.mp4\n",
      "✅ Extracted 16 frames from D:\\FYPSHIT\\DATASET\\videos\\09953.mp4\n",
      "✅ Extracted 16 frames from D:\\FYPSHIT\\DATASET\\videos\\09954.mp4\n",
      "✅ Extracted 16 frames from D:\\FYPSHIT\\DATASET\\videos\\09955.mp4\n",
      "✅ Extracted 16 frames from D:\\FYPSHIT\\DATASET\\videos\\09956.mp4\n",
      "✅ Extracted 16 frames from D:\\FYPSHIT\\DATASET\\videos\\09957.mp4\n",
      "✅ Extracted 16 frames from D:\\FYPSHIT\\DATASET\\videos\\09949.mp4\n",
      "✅ Extracted 16 frames from D:\\FYPSHIT\\DATASET\\videos\\09960.mp4\n"
     ]
    },
    {
     "name": "stderr",
     "output_type": "stream",
     "text": [
      "Processing Videos:  62%|███████████████████████████████████████▍                       | 25/40 [20:50<10:41, 42.78s/it]"
     ]
    },
    {
     "name": "stdout",
     "output_type": "stream",
     "text": [
      "✅ Extracted 15 frames from D:\\FYPSHIT\\DATASET\\videos\\09963.mp4\n",
      "✅ Extracted 16 frames from D:\\FYPSHIT\\DATASET\\videos\\69282.mp4\n",
      "✅ Extracted 16 frames from D:\\FYPSHIT\\DATASET\\videos\\13337.mp4\n",
      "✅ Extracted 16 frames from D:\\FYPSHIT\\DATASET\\videos\\13325.mp4\n",
      "✅ Extracted 16 frames from D:\\FYPSHIT\\DATASET\\videos\\13326.mp4\n",
      "✅ Extracted 16 frames from D:\\FYPSHIT\\DATASET\\videos\\13327.mp4\n",
      "✅ Extracted 16 frames from D:\\FYPSHIT\\DATASET\\videos\\13328.mp4\n",
      "✅ Extracted 16 frames from D:\\FYPSHIT\\DATASET\\videos\\13329.mp4\n",
      "✅ Extracted 16 frames from D:\\FYPSHIT\\DATASET\\videos\\65408.mp4\n",
      "✅ Extracted 16 frames from D:\\FYPSHIT\\DATASET\\videos\\65409.mp4\n",
      "✅ Extracted 16 frames from D:\\FYPSHIT\\DATASET\\videos\\13323.mp4\n",
      "✅ Extracted 15 frames from D:\\FYPSHIT\\DATASET\\videos\\13333.mp4\n"
     ]
    },
    {
     "name": "stderr",
     "output_type": "stream",
     "text": [
      "Processing Videos:  65%|████████████████████████████████████████▉                      | 26/40 [21:28<09:40, 41.48s/it]"
     ]
    },
    {
     "name": "stdout",
     "output_type": "stream",
     "text": [
      "✅ Extracted 15 frames from D:\\FYPSHIT\\DATASET\\videos\\13334.mp4\n",
      "✅ Extracted 16 frames from D:\\FYPSHIT\\DATASET\\videos\\69290.mp4\n",
      "✅ Extracted 16 frames from D:\\FYPSHIT\\DATASET\\videos\\14673.mp4\n",
      "✅ Extracted 16 frames from D:\\FYPSHIT\\DATASET\\videos\\14674.mp4\n",
      "✅ Extracted 16 frames from D:\\FYPSHIT\\DATASET\\videos\\14675.mp4\n",
      "✅ Extracted 16 frames from D:\\FYPSHIT\\DATASET\\videos\\14676.mp4\n",
      "✅ Extracted 15 frames from D:\\FYPSHIT\\DATASET\\videos\\14680.mp4\n",
      "✅ Extracted 16 frames from D:\\FYPSHIT\\DATASET\\videos\\65439.mp4\n",
      "✅ Extracted 16 frames from D:\\FYPSHIT\\DATASET\\videos\\65440.mp4\n",
      "✅ Extracted 16 frames from D:\\FYPSHIT\\DATASET\\videos\\14671.mp4\n",
      "✅ Extracted 15 frames from D:\\FYPSHIT\\DATASET\\videos\\14681.mp4\n",
      "✅ Extracted 16 frames from D:\\FYPSHIT\\DATASET\\videos\\14685.mp4\n"
     ]
    },
    {
     "name": "stderr",
     "output_type": "stream",
     "text": [
      "Processing Videos:  68%|██████████████████████████████████████████▌                    | 27/40 [22:20<09:39, 44.59s/it]"
     ]
    },
    {
     "name": "stdout",
     "output_type": "stream",
     "text": [
      "✅ Extracted 16 frames from D:\\FYPSHIT\\DATASET\\videos\\14672.mp4\n",
      "✅ Extracted 16 frames from D:\\FYPSHIT\\DATASET\\videos\\69431.mp4\n",
      "✅ Extracted 16 frames from D:\\FYPSHIT\\DATASET\\videos\\42977.mp4\n",
      "✅ Extracted 16 frames from D:\\FYPSHIT\\DATASET\\videos\\42958.mp4\n",
      "✅ Extracted 16 frames from D:\\FYPSHIT\\DATASET\\videos\\42959.mp4\n",
      "✅ Extracted 16 frames from D:\\FYPSHIT\\DATASET\\videos\\42960.mp4\n",
      "✅ Extracted 16 frames from D:\\FYPSHIT\\DATASET\\videos\\42961.mp4\n",
      "✅ Extracted 16 frames from D:\\FYPSHIT\\DATASET\\videos\\66297.mp4\n",
      "✅ Extracted 16 frames from D:\\FYPSHIT\\DATASET\\videos\\42962.mp4\n",
      "✅ Extracted 16 frames from D:\\FYPSHIT\\DATASET\\videos\\42956.mp4\n",
      "✅ Extracted 15 frames from D:\\FYPSHIT\\DATASET\\videos\\42966.mp4\n",
      "✅ Extracted 15 frames from D:\\FYPSHIT\\DATASET\\videos\\42967.mp4\n"
     ]
    },
    {
     "name": "stderr",
     "output_type": "stream",
     "text": [
      "Processing Videos:  70%|████████████████████████████████████████████                   | 28/40 [23:08<09:06, 45.54s/it]"
     ]
    },
    {
     "name": "stdout",
     "output_type": "stream",
     "text": [
      "✅ Extracted 15 frames from D:\\FYPSHIT\\DATASET\\videos\\42969.mp4\n",
      "✅ Extracted 16 frames from D:\\FYPSHIT\\DATASET\\videos\\69433.mp4\n",
      "✅ Extracted 16 frames from D:\\FYPSHIT\\DATASET\\videos\\43166.mp4\n",
      "✅ Extracted 16 frames from D:\\FYPSHIT\\DATASET\\videos\\43170.mp4\n",
      "✅ Extracted 16 frames from D:\\FYPSHIT\\DATASET\\videos\\43171.mp4\n",
      "✅ Extracted 15 frames from D:\\FYPSHIT\\DATASET\\videos\\43173.mp4\n",
      "✅ Extracted 16 frames from D:\\FYPSHIT\\DATASET\\videos\\43174.mp4\n",
      "✅ Extracted 16 frames from D:\\FYPSHIT\\DATASET\\videos\\43179.mp4\n",
      "✅ Extracted 16 frames from D:\\FYPSHIT\\DATASET\\videos\\43180.mp4\n",
      "✅ Extracted 16 frames from D:\\FYPSHIT\\DATASET\\videos\\43167.mp4\n",
      "✅ Extracted 16 frames from D:\\FYPSHIT\\DATASET\\videos\\43168.mp4\n"
     ]
    },
    {
     "name": "stderr",
     "output_type": "stream",
     "text": [
      "Processing Videos:  72%|█████████████████████████████████████████████▋                 | 29/40 [23:42<07:43, 42.12s/it]"
     ]
    },
    {
     "name": "stdout",
     "output_type": "stream",
     "text": [
      "✅ Extracted 16 frames from D:\\FYPSHIT\\DATASET\\videos\\43169.mp4\n",
      "✅ Extracted 16 frames from D:\\FYPSHIT\\DATASET\\videos\\51221.mp4\n",
      "✅ Extracted 16 frames from D:\\FYPSHIT\\DATASET\\videos\\51223.mp4\n",
      "✅ Extracted 16 frames from D:\\FYPSHIT\\DATASET\\videos\\51224.mp4\n",
      "✅ Extracted 16 frames from D:\\FYPSHIT\\DATASET\\videos\\51225.mp4\n",
      "✅ Extracted 16 frames from D:\\FYPSHIT\\DATASET\\videos\\51226.mp4\n",
      "✅ Extracted 16 frames from D:\\FYPSHIT\\DATASET\\videos\\51227.mp4\n",
      "✅ Extracted 16 frames from D:\\FYPSHIT\\DATASET\\videos\\66469.mp4\n",
      "✅ Extracted 16 frames from D:\\FYPSHIT\\DATASET\\videos\\51220.mp4\n",
      "✅ Extracted 15 frames from D:\\FYPSHIT\\DATASET\\videos\\51231.mp4\n",
      "✅ Extracted 15 frames from D:\\FYPSHIT\\DATASET\\videos\\51232.mp4\n",
      "✅ Extracted 15 frames from D:\\FYPSHIT\\DATASET\\videos\\51233.mp4\n",
      "✅ Extracted 16 frames from D:\\FYPSHIT\\DATASET\\videos\\51235.mp4\n"
     ]
    },
    {
     "name": "stderr",
     "output_type": "stream",
     "text": [
      "Processing Videos:  75%|███████████████████████████████████████████████▎               | 30/40 [24:22<06:54, 41.43s/it]"
     ]
    },
    {
     "name": "stdout",
     "output_type": "stream",
     "text": [
      "✅ Extracted 16 frames from D:\\FYPSHIT\\DATASET\\videos\\51236.mp4\n",
      "✅ Extracted 16 frames from D:\\FYPSHIT\\DATASET\\videos\\69225.mp4\n",
      "✅ Extracted 16 frames from D:\\FYPSHIT\\DATASET\\videos\\05230.mp4\n",
      "✅ Extracted 16 frames from D:\\FYPSHIT\\DATASET\\videos\\05231.mp4\n",
      "✅ Extracted 16 frames from D:\\FYPSHIT\\DATASET\\videos\\05232.mp4\n",
      "✅ Extracted 16 frames from D:\\FYPSHIT\\DATASET\\videos\\05233.mp4\n",
      "✅ Extracted 16 frames from D:\\FYPSHIT\\DATASET\\videos\\05234.mp4\n",
      "✅ Extracted 15 frames from D:\\FYPSHIT\\DATASET\\videos\\05238.mp4\n",
      "✅ Extracted 16 frames from D:\\FYPSHIT\\DATASET\\videos\\65144.mp4\n",
      "✅ Extracted 16 frames from D:\\FYPSHIT\\DATASET\\videos\\65145.mp4\n",
      "✅ Extracted 16 frames from D:\\FYPSHIT\\DATASET\\videos\\05229.mp4\n",
      "✅ Extracted 16 frames from D:\\FYPSHIT\\DATASET\\videos\\05239.mp4\n"
     ]
    },
    {
     "name": "stderr",
     "output_type": "stream",
     "text": [
      "Processing Videos:  78%|████████████████████████████████████████████████▊              | 31/40 [25:10<06:32, 43.57s/it]"
     ]
    },
    {
     "name": "stdout",
     "output_type": "stream",
     "text": [
      "✅ Extracted 16 frames from D:\\FYPSHIT\\DATASET\\videos\\05243.mp4\n",
      "✅ Extracted 16 frames from D:\\FYPSHIT\\DATASET\\videos\\66038.mp4\n",
      "✅ Extracted 16 frames from D:\\FYPSHIT\\DATASET\\videos\\32948.mp4\n",
      "✅ Extracted 16 frames from D:\\FYPSHIT\\DATASET\\videos\\32949.mp4\n",
      "✅ Extracted 16 frames from D:\\FYPSHIT\\DATASET\\videos\\32950.mp4\n",
      "✅ Extracted 15 frames from D:\\FYPSHIT\\DATASET\\videos\\32953.mp4\n",
      "✅ Extracted 15 frames from D:\\FYPSHIT\\DATASET\\videos\\32954.mp4\n",
      "✅ Extracted 16 frames from D:\\FYPSHIT\\DATASET\\videos\\32945.mp4\n",
      "✅ Extracted 15 frames from D:\\FYPSHIT\\DATASET\\videos\\32955.mp4\n",
      "✅ Extracted 16 frames from D:\\FYPSHIT\\DATASET\\videos\\32959.mp4\n",
      "✅ Extracted 16 frames from D:\\FYPSHIT\\DATASET\\videos\\32946.mp4\n"
     ]
    },
    {
     "name": "stderr",
     "output_type": "stream",
     "text": [
      "Processing Videos:  80%|██████████████████████████████████████████████████▍            | 32/40 [25:47<05:31, 41.42s/it]"
     ]
    },
    {
     "name": "stdout",
     "output_type": "stream",
     "text": [
      "✅ Extracted 16 frames from D:\\FYPSHIT\\DATASET\\videos\\32947.mp4\n",
      "✅ Extracted 16 frames from D:\\FYPSHIT\\DATASET\\videos\\65137.mp4\n",
      "✅ Extracted 16 frames from D:\\FYPSHIT\\DATASET\\videos\\05103.mp4\n",
      "✅ Extracted 16 frames from D:\\FYPSHIT\\DATASET\\videos\\05086.mp4\n",
      "✅ Extracted 16 frames from D:\\FYPSHIT\\DATASET\\videos\\05087.mp4\n",
      "✅ Extracted 16 frames from D:\\FYPSHIT\\DATASET\\videos\\05088.mp4\n",
      "✅ Extracted 16 frames from D:\\FYPSHIT\\DATASET\\videos\\05089.mp4\n",
      "✅ Extracted 16 frames from D:\\FYPSHIT\\DATASET\\videos\\05090.mp4\n",
      "✅ Extracted 16 frames from D:\\FYPSHIT\\DATASET\\videos\\05095.mp4\n",
      "✅ Extracted 16 frames from D:\\FYPSHIT\\DATASET\\videos\\05097.mp4\n",
      "✅ Extracted 15 frames from D:\\FYPSHIT\\DATASET\\videos\\05098.mp4\n"
     ]
    },
    {
     "name": "stderr",
     "output_type": "stream",
     "text": [
      "Processing Videos:  82%|███████████████████████████████████████████████████▉           | 33/40 [26:21<04:33, 39.13s/it]"
     ]
    },
    {
     "name": "stdout",
     "output_type": "stream",
     "text": [
      "✅ Extracted 16 frames from D:\\FYPSHIT\\DATASET\\videos\\05102.mp4\n",
      "✅ Extracted 16 frames from D:\\FYPSHIT\\DATASET\\videos\\69251.mp4\n",
      "✅ Extracted 16 frames from D:\\FYPSHIT\\DATASET\\videos\\07937.mp4\n",
      "✅ Extracted 16 frames from D:\\FYPSHIT\\DATASET\\videos\\07938.mp4\n",
      "✅ Extracted 16 frames from D:\\FYPSHIT\\DATASET\\videos\\07940.mp4\n",
      "✅ Extracted 16 frames from D:\\FYPSHIT\\DATASET\\videos\\65262.mp4\n",
      "✅ Extracted 16 frames from D:\\FYPSHIT\\DATASET\\videos\\07932.mp4\n",
      "✅ Extracted 16 frames from D:\\FYPSHIT\\DATASET\\videos\\07943.mp4\n",
      "✅ Extracted 16 frames from D:\\FYPSHIT\\DATASET\\videos\\07933.mp4\n",
      "✅ Extracted 16 frames from D:\\FYPSHIT\\DATASET\\videos\\07934.mp4\n",
      "✅ Extracted 16 frames from D:\\FYPSHIT\\DATASET\\videos\\07935.mp4\n"
     ]
    },
    {
     "name": "stderr",
     "output_type": "stream",
     "text": [
      "Processing Videos:  85%|█████████████████████████████████████████████████████▌         | 34/40 [27:12<04:17, 42.94s/it]"
     ]
    },
    {
     "name": "stdout",
     "output_type": "stream",
     "text": [
      "✅ Extracted 16 frames from D:\\FYPSHIT\\DATASET\\videos\\07936.mp4\n",
      "✅ Extracted 16 frames from D:\\FYPSHIT\\DATASET\\videos\\32398.mp4\n",
      "✅ Extracted 16 frames from D:\\FYPSHIT\\DATASET\\videos\\32379.mp4\n",
      "✅ Extracted 16 frames from D:\\FYPSHIT\\DATASET\\videos\\32380.mp4\n",
      "✅ Extracted 16 frames from D:\\FYPSHIT\\DATASET\\videos\\32381.mp4\n",
      "✅ Extracted 16 frames from D:\\FYPSHIT\\DATASET\\videos\\66016.mp4\n",
      "✅ Extracted 16 frames from D:\\FYPSHIT\\DATASET\\videos\\32382.mp4\n",
      "✅ Extracted 16 frames from D:\\FYPSHIT\\DATASET\\videos\\32383.mp4\n",
      "✅ Extracted 16 frames from D:\\FYPSHIT\\DATASET\\videos\\32386.mp4\n",
      "✅ Extracted 16 frames from D:\\FYPSHIT\\DATASET\\videos\\32377.mp4\n",
      "✅ Extracted 15 frames from D:\\FYPSHIT\\DATASET\\videos\\32388.mp4\n"
     ]
    },
    {
     "name": "stderr",
     "output_type": "stream",
     "text": [
      "Processing Videos:  88%|███████████████████████████████████████████████████████▏       | 35/40 [28:17<04:07, 49.52s/it]"
     ]
    },
    {
     "name": "stdout",
     "output_type": "stream",
     "text": [
      "✅ Extracted 15 frames from D:\\FYPSHIT\\DATASET\\videos\\32389.mp4\n",
      "✅ Extracted 16 frames from D:\\FYPSHIT\\DATASET\\videos\\48509.mp4\n",
      "✅ Extracted 16 frames from D:\\FYPSHIT\\DATASET\\videos\\48510.mp4\n",
      "✅ Extracted 16 frames from D:\\FYPSHIT\\DATASET\\videos\\48511.mp4\n",
      "✅ Extracted 16 frames from D:\\FYPSHIT\\DATASET\\videos\\48512.mp4\n",
      "✅ Extracted 16 frames from D:\\FYPSHIT\\DATASET\\videos\\48513.mp4\n",
      "✅ Extracted 16 frames from D:\\FYPSHIT\\DATASET\\videos\\48514.mp4\n",
      "✅ Extracted 15 frames from D:\\FYPSHIT\\DATASET\\videos\\48516.mp4\n",
      "✅ Extracted 16 frames from D:\\FYPSHIT\\DATASET\\videos\\66415.mp4\n",
      "✅ Extracted 16 frames from D:\\FYPSHIT\\DATASET\\videos\\66416.mp4\n",
      "✅ Extracted 15 frames from D:\\FYPSHIT\\DATASET\\videos\\48517.mp4\n"
     ]
    },
    {
     "name": "stderr",
     "output_type": "stream",
     "text": [
      "Processing Videos:  90%|████████████████████████████████████████████████████████▋      | 36/40 [29:01<03:11, 47.94s/it]"
     ]
    },
    {
     "name": "stdout",
     "output_type": "stream",
     "text": [
      "✅ Extracted 16 frames from D:\\FYPSHIT\\DATASET\\videos\\48521.mp4\n",
      "✅ Extracted 16 frames from D:\\FYPSHIT\\DATASET\\videos\\69500.mp4\n",
      "✅ Extracted 16 frames from D:\\FYPSHIT\\DATASET\\videos\\56698.mp4\n",
      "✅ Extracted 16 frames from D:\\FYPSHIT\\DATASET\\videos\\56699.mp4\n",
      "✅ Extracted 15 frames from D:\\FYPSHIT\\DATASET\\videos\\56700.mp4\n",
      "✅ Extracted 15 frames from D:\\FYPSHIT\\DATASET\\videos\\56701.mp4\n",
      "✅ Extracted 16 frames from D:\\FYPSHIT\\DATASET\\videos\\56692.mp4\n",
      "✅ Extracted 15 frames from D:\\FYPSHIT\\DATASET\\videos\\56702.mp4\n",
      "✅ Extracted 16 frames from D:\\FYPSHIT\\DATASET\\videos\\56704.mp4\n",
      "✅ Extracted 16 frames from D:\\FYPSHIT\\DATASET\\videos\\56705.mp4\n",
      "✅ Extracted 16 frames from D:\\FYPSHIT\\DATASET\\videos\\56693.mp4\n"
     ]
    },
    {
     "name": "stderr",
     "output_type": "stream",
     "text": [
      "Processing Videos:  92%|██████████████████████████████████████████████████████████▎    | 37/40 [29:27<02:03, 41.32s/it]"
     ]
    },
    {
     "name": "stdout",
     "output_type": "stream",
     "text": [
      "✅ Extracted 16 frames from D:\\FYPSHIT\\DATASET\\videos\\56694.mp4\n",
      "✅ Extracted 16 frames from D:\\FYPSHIT\\DATASET\\videos\\65290.mp4\n",
      "✅ Extracted 15 frames from D:\\FYPSHIT\\DATASET\\videos\\08706.mp4\n",
      "✅ Extracted 15 frames from D:\\FYPSHIT\\DATASET\\videos\\08707.mp4\n",
      "✅ Extracted 16 frames from D:\\FYPSHIT\\DATASET\\videos\\65556.mp4\n",
      "✅ Extracted 16 frames from D:\\FYPSHIT\\DATASET\\videos\\08713.mp4\n",
      "✅ Extracted 16 frames from D:\\FYPSHIT\\DATASET\\videos\\08689.mp4\n",
      "✅ Extracted 16 frames from D:\\FYPSHIT\\DATASET\\videos\\08690.mp4\n",
      "✅ Extracted 16 frames from D:\\FYPSHIT\\DATASET\\videos\\08691.mp4\n",
      "✅ Extracted 16 frames from D:\\FYPSHIT\\DATASET\\videos\\08692.mp4\n",
      "✅ Extracted 16 frames from D:\\FYPSHIT\\DATASET\\videos\\08694.mp4\n",
      "✅ Extracted 15 frames from D:\\FYPSHIT\\DATASET\\videos\\08701.mp4\n"
     ]
    },
    {
     "name": "stderr",
     "output_type": "stream",
     "text": [
      "Processing Videos:  95%|███████████████████████████████████████████████████████████▊   | 38/40 [30:07<01:21, 40.73s/it]"
     ]
    },
    {
     "name": "stdout",
     "output_type": "stream",
     "text": [
      "✅ Extracted 15 frames from D:\\FYPSHIT\\DATASET\\videos\\08702.mp4\n",
      "✅ Extracted 16 frames from D:\\FYPSHIT\\DATASET\\videos\\65377.mp4\n",
      "✅ Extracted 16 frames from D:\\FYPSHIT\\DATASET\\videos\\11638.mp4\n",
      "✅ Extracted 16 frames from D:\\FYPSHIT\\DATASET\\videos\\11622.mp4\n",
      "✅ Extracted 16 frames from D:\\FYPSHIT\\DATASET\\videos\\11623.mp4\n",
      "✅ Extracted 16 frames from D:\\FYPSHIT\\DATASET\\videos\\11624.mp4\n",
      "✅ Extracted 16 frames from D:\\FYPSHIT\\DATASET\\videos\\11625.mp4\n",
      "✅ Extracted 16 frames from D:\\FYPSHIT\\DATASET\\videos\\11627.mp4\n",
      "✅ Extracted 16 frames from D:\\FYPSHIT\\DATASET\\videos\\11628.mp4\n",
      "✅ Extracted 16 frames from D:\\FYPSHIT\\DATASET\\videos\\11621.mp4\n",
      "✅ Extracted 15 frames from D:\\FYPSHIT\\DATASET\\videos\\11633.mp4\n",
      "✅ Extracted 15 frames from D:\\FYPSHIT\\DATASET\\videos\\11634.mp4\n"
     ]
    },
    {
     "name": "stderr",
     "output_type": "stream",
     "text": [
      "Processing Videos:  98%|█████████████████████████████████████████████████████████████▍ | 39/40 [30:51<00:41, 41.70s/it]"
     ]
    },
    {
     "name": "stdout",
     "output_type": "stream",
     "text": [
      "✅ Extracted 15 frames from D:\\FYPSHIT\\DATASET\\videos\\11635.mp4\n",
      "✅ Extracted 16 frames from D:\\FYPSHIT\\DATASET\\videos\\53295.mp4\n",
      "✅ Extracted 16 frames from D:\\FYPSHIT\\DATASET\\videos\\53296.mp4\n",
      "✅ Extracted 15 frames from D:\\FYPSHIT\\DATASET\\videos\\53300.mp4\n",
      "✅ Extracted 15 frames from D:\\FYPSHIT\\DATASET\\videos\\53301.mp4\n",
      "✅ Extracted 16 frames from D:\\FYPSHIT\\DATASET\\videos\\66533.mp4\n",
      "✅ Extracted 16 frames from D:\\FYPSHIT\\DATASET\\videos\\66534.mp4\n",
      "✅ Extracted 16 frames from D:\\FYPSHIT\\DATASET\\videos\\53292.mp4\n",
      "✅ Extracted 16 frames from D:\\FYPSHIT\\DATASET\\videos\\53304.mp4\n",
      "✅ Extracted 16 frames from D:\\FYPSHIT\\DATASET\\videos\\53305.mp4\n",
      "✅ Extracted 16 frames from D:\\FYPSHIT\\DATASET\\videos\\53293.mp4\n"
     ]
    },
    {
     "name": "stderr",
     "output_type": "stream",
     "text": [
      "Processing Videos: 100%|███████████████████████████████████████████████████████████████| 40/40 [31:29<00:00, 47.24s/it]"
     ]
    },
    {
     "name": "stdout",
     "output_type": "stream",
     "text": [
      "✅ Extracted 16 frames from D:\\FYPSHIT\\DATASET\\videos\\53294.mp4\n",
      "🎉 Frame extraction complete!\n"
     ]
    },
    {
     "name": "stderr",
     "output_type": "stream",
     "text": [
      "\n"
     ]
    }
   ],
   "source": [
    "import cv2\n",
    "import mediapipe as mp\n",
    "import numpy as np\n",
    "import os\n",
    "from tqdm import tqdm\n",
    "\n",
    "# Paths\n",
    "video_dir = r\"D:\\FYPSHIT\\DATASET\\videos\"  # Path to video files\n",
    "selected_json_path = r\"D:\\FYPSHIT\\DATASET\\selected\\selected_WLASL.json\"  # Path to selected JSON file\n",
    "output_dir = r\"D:\\FYPSHIT\\DATASET\\frames\"  # Where to save extracted frames\n",
    "\n",
    "# Create output directory if it doesn't exist\n",
    "os.makedirs(output_dir, exist_ok=True)\n",
    "\n",
    "# Initialize MediaPipe Hands\n",
    "mp_hands = mp.solutions.hands\n",
    "mp_drawing = mp.solutions.drawing_utils\n",
    "hands = mp_hands.Hands(static_image_mode=True, max_num_hands=2)\n",
    "\n",
    "# Function to compute Optical Flow\n",
    "def compute_optical_flow(prev_frame, next_frame):\n",
    "    prev_gray = cv2.cvtColor(prev_frame, cv2.COLOR_BGR2GRAY)\n",
    "    next_gray = cv2.cvtColor(next_frame, cv2.COLOR_BGR2GRAY)\n",
    "    \n",
    "    flow = cv2.calcOpticalFlowFarneback(prev_gray, next_gray, None, 0.5, 3, 15, 3, 5, 1.2, 0)\n",
    "    magnitude = np.linalg.norm(flow, axis=2)  # Compute motion magnitude\n",
    "    return magnitude\n",
    "\n",
    "# Function to detect hands using MediaPipe\n",
    "def detect_hands(frame):\n",
    "    frame_rgb = cv2.cvtColor(frame, cv2.COLOR_BGR2RGB)\n",
    "    results = hands.process(frame_rgb)\n",
    "    return results\n",
    "\n",
    "# Function to extract frames using Optical Flow + MediaPipe\n",
    "def extract_keyframes(video_path, output_folder, num_frames=16):\n",
    "    cap = cv2.VideoCapture(video_path)\n",
    "    \n",
    "    if not cap.isOpened():\n",
    "        print(f\"❌ Failed to open video: {video_path}\")\n",
    "        return\n",
    "    \n",
    "    total_frames = int(cap.get(cv2.CAP_PROP_FRAME_COUNT))\n",
    "    frame_indices = np.linspace(0, total_frames - 1, num_frames, dtype=int)  # Select evenly spaced frames\n",
    "    \n",
    "    prev_frame = None\n",
    "    extracted_frames = []\n",
    "    \n",
    "    for frame_idx in frame_indices:\n",
    "        cap.set(cv2.CAP_PROP_POS_FRAMES, frame_idx)\n",
    "        ret, frame = cap.read()\n",
    "        \n",
    "        if not ret:\n",
    "            continue  # Skip if frame is not valid\n",
    "\n",
    "        # Compute Optical Flow if previous frame exists\n",
    "        if prev_frame is not None:\n",
    "            motion_magnitude = compute_optical_flow(prev_frame, frame)\n",
    "            motion_score = np.mean(motion_magnitude)\n",
    "        else:\n",
    "            motion_score = 0  # First frame has no previous frame\n",
    "        \n",
    "        # Detect hands using MediaPipe\n",
    "        results = detect_hands(frame)\n",
    "        if results.multi_hand_landmarks:\n",
    "            for hand_landmarks in results.multi_hand_landmarks:\n",
    "                mp_drawing.draw_landmarks(frame, hand_landmarks, mp_hands.HAND_CONNECTIONS)\n",
    "        \n",
    "        # Save the frame\n",
    "        frame_filename = os.path.join(output_folder, f\"{os.path.basename(video_path)}_{frame_idx}.jpg\")\n",
    "        cv2.imwrite(frame_filename, frame)\n",
    "        extracted_frames.append(frame_filename)\n",
    "        \n",
    "        prev_frame = frame  # Update previous frame\n",
    "    \n",
    "    cap.release()\n",
    "    print(f\"✅ Extracted {len(extracted_frames)} frames from {video_path}\")\n",
    "\n",
    "# Load the selected JSON file\n",
    "import json\n",
    "\n",
    "with open(selected_json_path, \"r\") as f:\n",
    "    selected_data = json.load(f)\n",
    "\n",
    "# Process each video\n",
    "for word in tqdm(selected_data, desc=\"Processing Videos\"):\n",
    "    gloss = word[\"gloss\"]\n",
    "    word_folder = os.path.join(output_dir, gloss)  # Create folder for each sign word\n",
    "    os.makedirs(word_folder, exist_ok=True)\n",
    "    \n",
    "    for instance in word[\"instances\"]:\n",
    "        video_id = instance[\"video_id\"]\n",
    "        video_path = os.path.join(video_dir, f\"{video_id}.mp4\")\n",
    "\n",
    "        if os.path.exists(video_path):\n",
    "            extract_keyframes(video_path, word_folder, num_frames=16)\n",
    "        else:\n",
    "            print(f\"⚠️ Missing video: {video_path}\")\n",
    "\n",
    "print(\"🎉 Frame extraction complete!\")\n"
   ]
  },
  {
   "cell_type": "code",
   "execution_count": 14,
   "id": "03def60e-2d21-44a7-b6eb-6d4bef9186d6",
   "metadata": {},
   "outputs": [
    {
     "name": "stdout",
     "output_type": "stream",
     "text": [
      "✅ Found 10 frames for 'before'\n",
      "['05727.mp4_0.jpg', '05727.mp4_11.jpg', '05727.mp4_17.jpg', '05727.mp4_22.jpg', '05727.mp4_28.jpg', '05727.mp4_34.jpg', '05727.mp4_40.jpg', '05727.mp4_45.jpg', '05727.mp4_5.jpg', '05727.mp4_51.jpg']\n"
     ]
    }
   ],
   "source": [
    "import os\n",
    "\n",
    "frames_dir = r\"D:\\FYPSHIT\\DATASET\\frames\"  # Update this if needed\n",
    "\n",
    "# List extracted frames for a sample word\n",
    "sample_word = \"before\"  # Change to any selected word\n",
    "word_folder = os.path.join(frames_dir, sample_word)\n",
    "\n",
    "if os.path.exists(word_folder):\n",
    "    sample_frames = os.listdir(word_folder)[:10]  # Show first 10 frames\n",
    "    print(f\"✅ Found {len(sample_frames)} frames for '{sample_word}'\")\n",
    "    print(sample_frames)\n",
    "else:\n",
    "    print(f\"⚠️ No frames found for '{sample_word}'. Check extraction process.\")\n"
   ]
  },
  {
   "cell_type": "code",
   "execution_count": 15,
   "id": "8ec4b403-a248-4c2a-8dc3-abc073bf0a61",
   "metadata": {},
   "outputs": [
    {
     "name": "stdout",
     "output_type": "stream",
     "text": [
      "📂 Found 40 classes: ['accident', 'apple', 'bar', 'basketball', 'bed', 'before', 'bowling', 'brother', 'call', 'candy', 'change', 'cold', 'computer', 'cool', 'corn', 'cousin', 'dark', 'dog', 'drink', 'family', 'go', 'help', 'later', 'laugh', 'letter', 'man', 'mother', 'pizza', 'play', 'room', 'shirt', 'short', 'soon', 'take', 'tall', 'thanksgiving', 'thin', 'walk', 'what', 'who']\n"
     ]
    },
    {
     "name": "stderr",
     "output_type": "stream",
     "text": [
      "Processing Classes: 100%|██████████████████████████████████████████████████████████████| 40/40 [06:26<00:00,  9.65s/it]\n"
     ]
    },
    {
     "name": "stdout",
     "output_type": "stream",
     "text": [
      "✅ TFRecords saved at: D:\\FYPSHIT\\DATASET\\tfrecords\\gesture_data.tfrecords\n"
     ]
    }
   ],
   "source": [
    "import os\n",
    "import tensorflow as tf\n",
    "import numpy as np\n",
    "import cv2\n",
    "from tqdm import tqdm\n",
    "\n",
    "# Paths\n",
    "frames_dir = r\"D:\\FYPSHIT\\DATASET\\frames\"  # Path to extracted frames\n",
    "output_tfrecord = r\"D:\\FYPSHIT\\DATASET\\tfrecords\\gesture_data.tfrecords\"  # TFRecord file\n",
    "\n",
    "# Create output directory\n",
    "os.makedirs(os.path.dirname(output_tfrecord), exist_ok=True)\n",
    "\n",
    "# List class labels\n",
    "class_labels = sorted(os.listdir(frames_dir))  # Get all class (word) folders\n",
    "label_map = {label: idx for idx, label in enumerate(class_labels)}  # Assign each class an index\n",
    "\n",
    "print(f\"📂 Found {len(class_labels)} classes: {class_labels}\")\n",
    "\n",
    "# Function to load and preprocess image\n",
    "def load_image(image_path):\n",
    "    img = cv2.imread(image_path)  # Read image\n",
    "    img = cv2.resize(img, (224, 224))  # Resize for MobileNetV2\n",
    "    img = img.astype(np.float32) / 255.0  # Normalize\n",
    "    return img\n",
    "\n",
    "# Function to serialize data into TFRecord format\n",
    "def serialize_example(video_frames, label):\n",
    "    feature = {\n",
    "        \"frames\": tf.train.Feature(float_list=tf.train.FloatList(value=video_frames.flatten())),\n",
    "        \"label\": tf.train.Feature(int64_list=tf.train.Int64List(value=[label])),\n",
    "    }\n",
    "    return tf.train.Example(features=tf.train.Features(feature=feature)).SerializeToString()\n",
    "\n",
    "# Step 1: Write TFRecords\n",
    "with tf.io.TFRecordWriter(output_tfrecord) as writer:\n",
    "    for label in tqdm(class_labels, desc=\"Processing Classes\"):\n",
    "        label_idx = label_map[label]\n",
    "        class_folder = os.path.join(frames_dir, label)\n",
    "\n",
    "        # Group frames by video ID\n",
    "        video_dict = {}\n",
    "        for filename in sorted(os.listdir(class_folder)):\n",
    "            if filename.endswith(\".jpg\"):\n",
    "                video_id = filename.split(\"_\")[0]  # Extract video ID\n",
    "                if video_id not in video_dict:\n",
    "                    video_dict[video_id] = []\n",
    "                video_dict[video_id].append(os.path.join(class_folder, filename))\n",
    "\n",
    "        # Process each video sequence\n",
    "        for video_id, image_paths in video_dict.items():\n",
    "            if len(image_paths) < 16:\n",
    "                continue  # Skip if there are fewer than 16 frames\n",
    "\n",
    "            # Load images\n",
    "            video_frames = np.array([load_image(img) for img in image_paths[:16]])  # Select first 16 frames\n",
    "\n",
    "            # Serialize and write to TFRecord\n",
    "            example = serialize_example(video_frames, label_idx)\n",
    "            writer.write(example)\n",
    "\n",
    "print(f\"✅ TFRecords saved at: {output_tfrecord}\")\n"
   ]
  },
  {
   "cell_type": "markdown",
   "id": "c5cc9b19-ddfa-40ac-8b3a-2b9b749a31ae",
   "metadata": {},
   "source": [
    "data FOR TRIANINIG "
   ]
  },
  {
   "cell_type": "code",
   "execution_count": 2,
   "id": "c0ce9e80-466d-4ddc-beaa-978d59850b94",
   "metadata": {},
   "outputs": [
    {
     "name": "stdout",
     "output_type": "stream",
     "text": [
      "✅ Training dataset ready!\n"
     ]
    }
   ],
   "source": [
    "# Define batch size and dataset pipeline\n",
    "BATCH_SIZE = 8  # Adjust based on GPU/CPU capability\n",
    "\n",
    "def prepare_dataset(tfrecord_path, batch_size=BATCH_SIZE):\n",
    "    dataset = tf.data.TFRecordDataset(tfrecord_path)\n",
    "    dataset = dataset.map(parse_tfrecord)\n",
    "    dataset = dataset.shuffle(1000).batch(batch_size).prefetch(tf.data.AUTOTUNE)\n",
    "    return dataset\n",
    "\n",
    "# Load dataset\n",
    "train_dataset = prepare_dataset(tfrecord_path)\n",
    "\n",
    "print(\"✅ Training dataset ready!\")\n"
   ]
  },
  {
   "cell_type": "code",
   "execution_count": null,
   "id": "18cd13dc-301d-41c2-aff2-e46405eb18c5",
   "metadata": {},
   "outputs": [],
   "source": []
  }
 ],
 "metadata": {
  "kernelspec": {
   "display_name": "test 2",
   "language": "python",
   "name": "test2-venv"
  },
  "language_info": {
   "codemirror_mode": {
    "name": "ipython",
    "version": 3
   },
   "file_extension": ".py",
   "mimetype": "text/x-python",
   "name": "python",
   "nbconvert_exporter": "python",
   "pygments_lexer": "ipython3",
   "version": "3.10.0"
  }
 },
 "nbformat": 4,
 "nbformat_minor": 5
}
